{
 "cells": [
  {
   "cell_type": "code",
   "execution_count": null,
   "metadata": {},
   "outputs": [],
   "source": [
    "# No lo logre entender y lo correji como lo tenian los compañeros\n",
    "\n",
    "text = \"\"\"Interesting facts about the Moon. The Moon is Earth's only satellite. There are several interesting facts about the Moon and how it affects life here on Earth. \n",
    "On average, the Moon moves 4cm away from the Earth every year. This yearly drift is not significant enough to cause immediate effects on Earth. The highest daylight temperature of the Moon is 127 C.\"\"\"\n",
    "\n",
    "two_text = text .split('.')\n",
    "Palabra_clave = [\"average\", \"temperature\", \"distance\"]\n",
    "\n",
    "for tx in two_text: \n",
    "    for clave in Palabra_clave: \n",
    "        if clave in tx: \n",
    "            print(tx.replace(' C', ' Celsius')) \n",
    "            break\n",
    "\n",
    "for txt in Palabra_clave: \n",
    "    for clave in Palabra_clave: \n",
    "        if clave in txt: \n",
    "            print(txt.replace(' C', ' Celsius')) \n",
    "            break\n"
   ]
  },
  {
   "cell_type": "code",
   "execution_count": null,
   "metadata": {},
   "outputs": [],
   "source": [
    "name = \"Moon\"\n",
    "gravity = 0.00162 * 1000  # in kms\n",
    "planet = \"Earth\"\n",
    "Titulo = \"Gravity Facts about Ganymede\"\n",
    "\n",
    "print(f'{Titulo.title()}')\n",
    "print(\"\"\"Planeta nombre: {0}\n",
    "Gravity on Ganymede: {1}\"\"\".format(name, gravity))"
   ]
  },
  {
   "cell_type": "code",
   "execution_count": null,
   "metadata": {},
   "outputs": [],
   "source": [
    "name = \"Ganímedes\"\n",
    "gravity = 0.00143 * 1000  # in kms\n",
    "planet = \"Marte\"\n",
    "Titulo = \"Gravity Facts about Ganymede\"\n",
    "\n",
    "print(f'{Titulo.title()}')\n",
    "print(\"\"\"Planeta nombre: {0}\n",
    "Gravity on Ganymede: {1}\"\"\".format(name, gravity))"
   ]
  }
 ],
 "metadata": {
  "language_info": {
   "name": "python"
  },
  "orig_nbformat": 4
 },
 "nbformat": 4,
 "nbformat_minor": 2
}
