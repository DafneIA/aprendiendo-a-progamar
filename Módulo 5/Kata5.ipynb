{
 "cells": [
  {
   "cell_type": "code",
   "execution_count": null,
   "metadata": {},
   "outputs": [],
   "source": [
    "TierraD = 149597870\n",
    "JúpiterD = 778547200\n",
    "\n",
    "RestPl = TierraD - JúpiterD\n",
    "Result = int (RestPl * 0.621)\n",
    "\n",
    "print(abs(RestPl))\n",
    "print(abs(Result))"
   ]
  },
  {
   "cell_type": "code",
   "execution_count": null,
   "metadata": {},
   "outputs": [],
   "source": [
    "# Almacenar las entradas del usuario\n",
    "#Pista: variable = input(\"¿Cuál es tu nombre?\")\n",
    "\n",
    "V1 = input(\"Planeta 1\")\n",
    "V2 = input(\"Planeta 2\")\n",
    "\n",
    "Numer1 = int(V1)\n",
    "Numer2 = int(V2)\n",
    "\n",
    "Result1 = Numer1 -Numer2\n",
    "Result2 = int (Result1 * 0.621)\n",
    "\n",
    "print(abs(Result1))\n",
    "print(abs(Result2))\n"
   ]
  }
 ],
 "metadata": {
  "interpreter": {
   "hash": "b76114b63e31f4cdfe0bdd29117e3e3789b7f43a68a71cf954291195dc9a364b"
  },
  "kernelspec": {
   "display_name": "Python 3.9.10 64-bit (windows store)",
   "language": "python",
   "name": "python3"
  },
  "language_info": {
   "codemirror_mode": {
    "name": "ipython",
    "version": 3
   },
   "file_extension": ".py",
   "mimetype": "text/x-python",
   "name": "python",
   "nbconvert_exporter": "python",
   "pygments_lexer": "ipython3",
   "version": "3.9.10"
  },
  "orig_nbformat": 4
 },
 "nbformat": 4,
 "nbformat_minor": 2
}
