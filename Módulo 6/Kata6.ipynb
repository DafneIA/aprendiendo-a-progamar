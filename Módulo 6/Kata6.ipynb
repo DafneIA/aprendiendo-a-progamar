{
 "cells": [
  {
   "cell_type": "code",
   "execution_count": null,
   "metadata": {},
   "outputs": [],
   "source": [
    "plats = ['Mercury', 'Venus', 'Earth', 'Mars', 'Jupiter', 'Saturn', 'Uranus', 'Neptune']\n",
    "print('Planeta numero uno', plats[0])\n",
    "print('Planeta numero dos', plats[1])\n",
    "print('Planeta numero tres', plats[2])\n",
    "print('Planeta numero cuatro', plats[3])\n",
    "print('Planeta numero sinco', plats[4])\n",
    "print('Planeta numero seis', plats[5])\n",
    "print('Planeta numero siete', plats[6])\n",
    "print('Planeta numero ocho', plats[7])\n",
    "\n",
    "plats.append('Pluto')\n",
    "print('Planeta final numero nueve', plats[8])\n",
    "\n",
    "NP= len(plats)\n",
    "print('Tenemos', NP, 'planetas en nuestro sistema solar.')\n",
    "\n",
    "\n"
   ]
  },
  {
   "cell_type": "code",
   "execution_count": null,
   "metadata": {},
   "outputs": [],
   "source": [
    "planets = ['Mercury', 'Venus', 'Earth', 'Mars', 'Jupiter', 'Saturn', 'Uranus', 'Neptune']\n",
    "Displa = [57900000, 108200000, 149600000, 227900000, 778600000, 1433500000, 2872500000, 4495100000]\n",
    "\n",
    "V1 = input(\"Escribe el nombre del planeta, utiliza mayúscula al inicio del nombre del planeta.\")\n",
    "\n",
    "Rest = planets.index(V1)\n",
    "print(V1, Rest + 1, 'planeta del sistema solar')\n",
    "\n",
    "print('El planeta más cercanos al sol', min(Displa), 'km')\n",
    "print('El planeta más lejanos al sol', max(Displa), 'km')"
   ]
  }
 ],
 "metadata": {
  "interpreter": {
   "hash": "b76114b63e31f4cdfe0bdd29117e3e3789b7f43a68a71cf954291195dc9a364b"
  },
  "kernelspec": {
   "display_name": "Python 3.9.10 64-bit (windows store)",
   "language": "python",
   "name": "python3"
  },
  "language_info": {
   "codemirror_mode": {
    "name": "ipython",
    "version": 3
   },
   "file_extension": ".py",
   "mimetype": "text/x-python",
   "name": "python",
   "nbconvert_exporter": "python",
   "pygments_lexer": "ipython3",
   "version": "3.9.10"
  },
  "orig_nbformat": 4
 },
 "nbformat": 4,
 "nbformat_minor": 2
}
