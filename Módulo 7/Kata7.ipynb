{
 "cells": [
  {
   "cell_type": "code",
   "execution_count": null,
   "metadata": {},
   "outputs": [],
   "source": [
    "# para imprimir cheque las dudas de los compañeros para encontrar la respuesta\n",
    "\n",
    "new_planet = ''\n",
    "planets = []\n",
    "\n",
    "while new_planet.lower() != 'done':\n",
    "    if new_planet:\n",
    "        planets.append(new_planet)\n",
    "    new_planet = input('Ingresa el nombre de un planeta, o escriba, done, para parar')\n",
    "\n",
    "for planet in planets :\n",
    "    print (planet)"
   ]
  }
 ],
 "metadata": {
  "interpreter": {
   "hash": "b76114b63e31f4cdfe0bdd29117e3e3789b7f43a68a71cf954291195dc9a364b"
  },
  "kernelspec": {
   "display_name": "Python 3.9.10 64-bit (windows store)",
   "language": "python",
   "name": "python3"
  },
  "language_info": {
   "codemirror_mode": {
    "name": "ipython",
    "version": 3
   },
   "file_extension": ".py",
   "mimetype": "text/x-python",
   "name": "python",
   "nbconvert_exporter": "python",
   "pygments_lexer": "ipython3",
   "version": "3.9.10"
  },
  "orig_nbformat": 4
 },
 "nbformat": 4,
 "nbformat_minor": 2
}
