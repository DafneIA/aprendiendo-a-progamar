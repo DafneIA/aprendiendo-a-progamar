{
 "cells": [
  {
   "cell_type": "markdown",
   "metadata": {},
   "source": [
    "# if, else, y elif"
   ]
  },
  {
   "cell_type": "code",
   "execution_count": null,
   "metadata": {},
   "outputs": [],
   "source": [
    "#VAM = velocidad del asteroide y/o meteorito\n",
    "VAM = 49\n",
    "if VAM > 25 :\n",
    "    print(\"¡ALERTA METEORITO!\")\n",
    "else:\n",
    "    print(\"Falsa alarma\")"
   ]
  },
  {
   "cell_type": "code",
   "execution_count": null,
   "metadata": {},
   "outputs": [],
   "source": [
    "# Mi solución\n",
    "AV = 19\n",
    "if AV >= 20 or AV >= 20:\n",
    "    print(\"¡Asteroide en el cielo!\")\n",
    "else:\n",
    "    print(\"Nada a la vista\")"
   ]
  },
  {
   "cell_type": "markdown",
   "metadata": {},
   "source": [
    "# and y or"
   ]
  },
  {
   "cell_type": "code",
   "execution_count": null,
   "metadata": {},
   "outputs": [],
   "source": [
    "#Lo vi en la solución que nos dan \n",
    "VA = 68\n",
    "TA = 96\n",
    "if VA ==  25 or TA ==  25 :\n",
    "    print(\"¡PELIGRO!\")\n",
    "elif VA < 25:\n",
    "    print(\"No pasa nada\")\n",
    "else: \n",
    "    print (\"¡Daño debastador!\")"
   ]
  }
 ],
 "metadata": {
  "interpreter": {
   "hash": "b76114b63e31f4cdfe0bdd29117e3e3789b7f43a68a71cf954291195dc9a364b"
  },
  "kernelspec": {
   "display_name": "Python 3.9.10 64-bit (windows store)",
   "language": "python",
   "name": "python3"
  },
  "language_info": {
   "codemirror_mode": {
    "name": "ipython",
    "version": 3
   },
   "file_extension": ".py",
   "mimetype": "text/x-python",
   "name": "python",
   "nbconvert_exporter": "python",
   "pygments_lexer": "ipython3",
   "version": "3.9.10"
  },
  "orig_nbformat": 4
 },
 "nbformat": 4,
 "nbformat_minor": 2
}
